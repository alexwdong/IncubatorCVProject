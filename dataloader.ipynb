{
  "nbformat": 4,
  "nbformat_minor": 0,
  "metadata": {
    "kernelspec": {
      "display_name": "Python 3",
      "language": "python",
      "name": "python3"
    },
    "language_info": {
      "codemirror_mode": {
        "name": "ipython",
        "version": 3
      },
      "file_extension": ".py",
      "mimetype": "text/x-python",
      "name": "python",
      "nbconvert_exporter": "python",
      "pygments_lexer": "ipython3",
      "version": "3.7.6"
    },
    "colab": {
      "name": "dataloader.ipynb",
      "provenance": [],
      "toc_visible": true
    },
    "accelerator": "GPU"
  },
  "cells": [
    {
      "cell_type": "markdown",
      "metadata": {
        "id": "s64vOJB1JnBR",
        "colab_type": "text"
      },
      "source": [
        "### Set access to google drive\n"
      ]
    },
    {
      "cell_type": "code",
      "metadata": {
        "id": "f3E6EaNKkhpD",
        "colab_type": "code",
        "colab": {
          "base_uri": "https://localhost:8080/",
          "height": 54
        },
        "outputId": "db9b4860-a1ae-457f-f7b0-862826b157c3"
      },
      "source": [
        "from google.colab import drive\n",
        "drive.mount('/content/drive')"
      ],
      "execution_count": 3,
      "outputs": [
        {
          "output_type": "stream",
          "text": [
            "Drive already mounted at /content/drive; to attempt to forcibly remount, call drive.mount(\"/content/drive\", force_remount=True).\n"
          ],
          "name": "stdout"
        }
      ]
    },
    {
      "cell_type": "code",
      "metadata": {
        "id": "-Xc3-VtGkkx5",
        "colab_type": "code",
        "colab": {
          "base_uri": "https://localhost:8080/",
          "height": 34
        },
        "outputId": "e01cf6f8-6d6e-4696-86ca-420d9d41733f"
      },
      "source": [
        "%cd drive/My\\ Drive/CV_incubator/IncubatorCVProject"
      ],
      "execution_count": 4,
      "outputs": [
        {
          "output_type": "stream",
          "text": [
            "/content/drive/My Drive/CV_incubator/IncubatorCVProject\n"
          ],
          "name": "stdout"
        }
      ]
    },
    {
      "cell_type": "markdown",
      "metadata": {
        "id": "0qwEBOXdJr7v",
        "colab_type": "text"
      },
      "source": [
        "### Import libraries and setup paths\n"
      ]
    },
    {
      "cell_type": "code",
      "metadata": {
        "id": "O5aE_NqOkeXK",
        "colab_type": "code",
        "colab": {}
      },
      "source": [
        "from src.dataloader import SquarePadding\n",
        "import matplotlib.pyplot as plt\n",
        "from torchvision.datasets import ImageFolder\n",
        "from torchvision.transforms import ToTensor,Resize,Compose\n",
        "from torch.utils.data.sampler import SubsetRandomSampler\n",
        "import torch\n",
        "import inspect\n",
        "import numpy as np\n",
        "import cv2\n",
        "import os\n",
        "import glob\n",
        "import pandas as pd\n",
        "from torch.utils.data import Dataset, DataLoader\n",
        "from torchvision import transforms, utils\n",
        "from PIL import Image\n",
        "from src.feature_engineering import prepare_spectral_clustering_features,prepare_eigen_component_features"
      ],
      "execution_count": 5,
      "outputs": []
    },
    {
      "cell_type": "code",
      "metadata": {
        "id": "I09ueuoVkeXb",
        "colab_type": "code",
        "colab": {}
      },
      "source": [
        "# Path to image folder and label.csv\n",
        "data_path = '../dog-breed-identification'\n",
        "label_path = '../dog-breed-identification/labels.csv'"
      ],
      "execution_count": null,
      "outputs": []
    },
    {
      "cell_type": "code",
      "metadata": {
        "id": "Jc0cSgO0lfR3",
        "colab_type": "code",
        "colab": {
          "base_uri": "https://localhost:8080/",
          "height": 235
        },
        "outputId": "ae7a20f7-f74e-4682-8bf3-18f029837c43"
      },
      "source": [
        "label = pd.read_csv(\"../dog-breed-identification/labels.csv\",index_col = 'id')\n",
        "label.head()"
      ],
      "execution_count": null,
      "outputs": [
        {
          "output_type": "execute_result",
          "data": {
            "text/html": [
              "<div>\n",
              "<style scoped>\n",
              "    .dataframe tbody tr th:only-of-type {\n",
              "        vertical-align: middle;\n",
              "    }\n",
              "\n",
              "    .dataframe tbody tr th {\n",
              "        vertical-align: top;\n",
              "    }\n",
              "\n",
              "    .dataframe thead th {\n",
              "        text-align: right;\n",
              "    }\n",
              "</style>\n",
              "<table border=\"1\" class=\"dataframe\">\n",
              "  <thead>\n",
              "    <tr style=\"text-align: right;\">\n",
              "      <th></th>\n",
              "      <th>breed</th>\n",
              "    </tr>\n",
              "    <tr>\n",
              "      <th>id</th>\n",
              "      <th></th>\n",
              "    </tr>\n",
              "  </thead>\n",
              "  <tbody>\n",
              "    <tr>\n",
              "      <th>000bec180eb18c7604dcecc8fe0dba07</th>\n",
              "      <td>boston_bull</td>\n",
              "    </tr>\n",
              "    <tr>\n",
              "      <th>001513dfcb2ffafc82cccf4d8bbaba97</th>\n",
              "      <td>dingo</td>\n",
              "    </tr>\n",
              "    <tr>\n",
              "      <th>001cdf01b096e06d78e9e5112d419397</th>\n",
              "      <td>pekinese</td>\n",
              "    </tr>\n",
              "    <tr>\n",
              "      <th>00214f311d5d2247d5dfe4fe24b2303d</th>\n",
              "      <td>bluetick</td>\n",
              "    </tr>\n",
              "    <tr>\n",
              "      <th>0021f9ceb3235effd7fcde7f7538ed62</th>\n",
              "      <td>golden_retriever</td>\n",
              "    </tr>\n",
              "  </tbody>\n",
              "</table>\n",
              "</div>"
            ],
            "text/plain": [
              "                                             breed\n",
              "id                                                \n",
              "000bec180eb18c7604dcecc8fe0dba07       boston_bull\n",
              "001513dfcb2ffafc82cccf4d8bbaba97             dingo\n",
              "001cdf01b096e06d78e9e5112d419397          pekinese\n",
              "00214f311d5d2247d5dfe4fe24b2303d          bluetick\n",
              "0021f9ceb3235effd7fcde7f7538ed62  golden_retriever"
            ]
          },
          "metadata": {
            "tags": []
          },
          "execution_count": 7
        }
      ]
    },
    {
      "cell_type": "markdown",
      "metadata": {
        "id": "hP-8IIswGWtM",
        "colab_type": "text"
      },
      "source": [
        "### Data loader\n",
        "\n",
        "\n"
      ]
    },
    {
      "cell_type": "markdown",
      "metadata": {
        "id": "gpODzqDxMJji",
        "colab_type": "text"
      },
      "source": [
        "Map image path to label and label index"
      ]
    },
    {
      "cell_type": "code",
      "metadata": {
        "id": "Kc3UNS2olhQB",
        "colab_type": "code",
        "colab": {}
      },
      "source": [
        "def generate_label(image_dir,label_path, label_col = 0):\n",
        "  '''\n",
        "  label_path(string): Path to the csv file with labels.\n",
        "  image_dir (string): Directory with all the images.\n",
        "  label_col: column of image id, default to 0th column in the label.csv\n",
        "  ''' \n",
        "  label_csv = pd.read_csv(label_path,index_col = label_col)\n",
        "  # create dictionary mapping label to label index\n",
        "  lab2idx = {lab:idx for idx,lab in enumerate(list(set(label_csv['breed'])))}\n",
        "  # create dictionary mapping label index back to label\n",
        "  idx2lab = {idx:lab for idx,lab in enumerate(list(set(label_csv['breed'])))}\n",
        "  # list of image pathes relative to root directory. Eg. format: subdirectory/image.jpg\n",
        "  path = ['/'.join(img_fullname.split('/')[-2:]) for root, dirs, files in os.walk(image_dir)\n",
        "                       for dir in dirs\n",
        "                       for img_fullname in glob.glob(os.path.join(root,dir,'*'))]\n",
        "  label_idx = [lab2idx[label_csv.loc[im.split('/')[-1].split('.')[0]][0]] for im in path]\n",
        "  \n",
        "  label = pd.DataFrame(columns = ['path','label_idx'])\n",
        "\n",
        "  label['path'] = path\n",
        "  label['label_idx'] = label_idx\n",
        "          \n",
        "  return label, lab2idx, idx2lab"
      ],
      "execution_count": null,
      "outputs": []
    },
    {
      "cell_type": "code",
      "metadata": {
        "id": "RCHmQTglmGK7",
        "colab_type": "code",
        "colab": {}
      },
      "source": [
        "label_csv, lab2idx, idx2lab = generate_label(data_path,label_path)"
      ],
      "execution_count": null,
      "outputs": []
    },
    {
      "cell_type": "code",
      "metadata": {
        "id": "qrMEmChRO-gQ",
        "colab_type": "code",
        "colab": {
          "base_uri": "https://localhost:8080/",
          "height": 204
        },
        "outputId": "b42da00e-f341-405f-8609-74240ae4814e"
      },
      "source": [
        "label_csv.head(5)"
      ],
      "execution_count": null,
      "outputs": [
        {
          "output_type": "execute_result",
          "data": {
            "text/html": [
              "<div>\n",
              "<style scoped>\n",
              "    .dataframe tbody tr th:only-of-type {\n",
              "        vertical-align: middle;\n",
              "    }\n",
              "\n",
              "    .dataframe tbody tr th {\n",
              "        vertical-align: top;\n",
              "    }\n",
              "\n",
              "    .dataframe thead th {\n",
              "        text-align: right;\n",
              "    }\n",
              "</style>\n",
              "<table border=\"1\" class=\"dataframe\">\n",
              "  <thead>\n",
              "    <tr style=\"text-align: right;\">\n",
              "      <th></th>\n",
              "      <th>path</th>\n",
              "      <th>label_idx</th>\n",
              "    </tr>\n",
              "  </thead>\n",
              "  <tbody>\n",
              "    <tr>\n",
              "      <th>0</th>\n",
              "      <td>train/dd1d181a7224fa5a1a7c1fae05eec93d.jpg</td>\n",
              "      <td>64</td>\n",
              "    </tr>\n",
              "    <tr>\n",
              "      <th>1</th>\n",
              "      <td>train/e4f5d391d0eab2c83493f2110a743da3.jpg</td>\n",
              "      <td>108</td>\n",
              "    </tr>\n",
              "    <tr>\n",
              "      <th>2</th>\n",
              "      <td>train/e49f8aaa63a2ad36d11ff50fd53e25cf.jpg</td>\n",
              "      <td>106</td>\n",
              "    </tr>\n",
              "    <tr>\n",
              "      <th>3</th>\n",
              "      <td>train/e1e8cefa88b84062d11722537ec61214.jpg</td>\n",
              "      <td>21</td>\n",
              "    </tr>\n",
              "    <tr>\n",
              "      <th>4</th>\n",
              "      <td>train/deaba13cbf116d0dda2868a55c697d0b.jpg</td>\n",
              "      <td>6</td>\n",
              "    </tr>\n",
              "  </tbody>\n",
              "</table>\n",
              "</div>"
            ],
            "text/plain": [
              "                                         path  label_idx\n",
              "0  train/dd1d181a7224fa5a1a7c1fae05eec93d.jpg         64\n",
              "1  train/e4f5d391d0eab2c83493f2110a743da3.jpg        108\n",
              "2  train/e49f8aaa63a2ad36d11ff50fd53e25cf.jpg        106\n",
              "3  train/e1e8cefa88b84062d11722537ec61214.jpg         21\n",
              "4  train/deaba13cbf116d0dda2868a55c697d0b.jpg          6"
            ]
          },
          "metadata": {
            "tags": []
          },
          "execution_count": 18
        }
      ]
    },
    {
      "cell_type": "code",
      "metadata": {
        "id": "v92ooFqZsqCq",
        "colab_type": "code",
        "colab": {
          "base_uri": "https://localhost:8080/",
          "height": 34
        },
        "outputId": "c6d5e379-5483-456d-ec32-ecb73f611b10"
      },
      "source": [
        "for lab in lab2idx:\n",
        "  print(lab,lab2idx[lab])\n",
        "  break"
      ],
      "execution_count": null,
      "outputs": [
        {
          "output_type": "stream",
          "text": [
            "border_collie 0\n"
          ],
          "name": "stdout"
        }
      ]
    },
    {
      "cell_type": "code",
      "metadata": {
        "id": "ii3qC1-5tCWK",
        "colab_type": "code",
        "colab": {
          "base_uri": "https://localhost:8080/",
          "height": 34
        },
        "outputId": "4cef2f4f-347c-4655-8a4b-cece94481f64"
      },
      "source": [
        "for idx in idx2lab:\n",
        "  print(idx,idx2lab[idx])\n",
        "  break"
      ],
      "execution_count": null,
      "outputs": [
        {
          "output_type": "stream",
          "text": [
            "0 border_collie\n"
          ],
          "name": "stdout"
        }
      ]
    },
    {
      "cell_type": "code",
      "metadata": {
        "id": "nl008r2RrTem",
        "colab_type": "code",
        "colab": {}
      },
      "source": [
        "\n",
        "class DogDataset(Dataset):\n",
        "    \"\"\"Face Landmarks dataset.\"\"\"\n",
        "\n",
        "    def __init__(self, label_csv, root_dir, transform=None):\n",
        "        \"\"\"\n",
        "        Args:\n",
        "            csv_file (file): Modified csv file with image path and label indexes. \n",
        "                             Refer to function 'generate_label' \n",
        "            root_dir (string): Directory with all the images.\n",
        "            transform (callable, optional): Optional transform to be applied\n",
        "                on a sample.\n",
        "        \"\"\"\n",
        "        self.label_csv = label_csv\n",
        "        self.root_dir = root_dir\n",
        "        self.transform = transform\n",
        "\n",
        "    def __len__(self):\n",
        "        return len(self.label_csv)\n",
        "\n",
        "    def __getitem__(self, idx):\n",
        "        # if torch.is_tensor(idx):\n",
        "        #     idx = idx.tolist()\n",
        "\n",
        "        img_path = os.path.join(self.root_dir,\n",
        "                                self.label_csv.iloc[idx, 0])\n",
        "        image = Image.open(img_path)\n",
        "        label = self.label_csv.iloc[idx, 1]\n",
        "       \n",
        "        if self.transform:\n",
        "            image = self.transform(image)\n",
        "        \n",
        "\n",
        "        return image,label"
      ],
      "execution_count": null,
      "outputs": []
    },
    {
      "cell_type": "code",
      "metadata": {
        "id": "3gOkPhFp3q2X",
        "colab_type": "code",
        "colab": {}
      },
      "source": [
        "dog_dataset = DogDataset(label_csv,data_path,Compose([\n",
        "    SquarePadding(),\n",
        "    Resize((128,128)),\n",
        "    ToTensor()]))"
      ],
      "execution_count": null,
      "outputs": []
    },
    {
      "cell_type": "code",
      "metadata": {
        "id": "666r_E2h8wz7",
        "colab_type": "code",
        "colab": {}
      },
      "source": [
        "\n",
        "#Variables for splitting the dataset into train/test\n",
        "validation_split = .1\n",
        "test_split = .1\n",
        "batch_size = 16\n",
        "shuffle_dataset = True\n",
        "random_seed = 42\n",
        "\n",
        "# Split \n",
        "dataset_size = len(dog_dataset)\n",
        "indices = list(range(dataset_size))\n",
        "split_idx1 = int(np.floor((validation_split+test_split) * dataset_size))\n",
        "split_idx2 = int(np.floor(test_split * dataset_size))\n",
        "if shuffle_dataset:\n",
        "    np.random.seed(random_seed)\n",
        "    np.random.shuffle(indices)\n",
        "    \n",
        "test_indices, val_indices, train_indices = indices[:split_idx2], indices[split_idx2:split_idx1], indices[split_idx1:]\n",
        "\n",
        "# Creating PT data samplers and loaders:\n",
        "train_sampler = SubsetRandomSampler(train_indices)\n",
        "valid_sampler = SubsetRandomSampler(val_indices)"
      ],
      "execution_count": null,
      "outputs": []
    },
    {
      "cell_type": "code",
      "metadata": {
        "id": "uMm-tiAd88aX",
        "colab_type": "code",
        "colab": {}
      },
      "source": [
        "train_loader = torch.utils.data.DataLoader(dog_dataset, batch_size=batch_size, \n",
        "                                           sampler=train_sampler)\n",
        "validation_loader = torch.utils.data.DataLoader(dog_dataset, batch_size=batch_size,\n",
        "                                                sampler=valid_sampler)\n",
        "# test_loader =  torch.utils.data.DataLoader(indoor_dataset, batch_size=batch_size,\n",
        "#                                                 sampler=test_sampler)"
      ],
      "execution_count": null,
      "outputs": []
    },
    {
      "cell_type": "code",
      "metadata": {
        "id": "3eT96G7_IX6C",
        "colab_type": "code",
        "colab": {
          "base_uri": "https://localhost:8080/",
          "height": 34
        },
        "outputId": "845f3551-dfc4-4b09-a967-6d3b9c5ff17e"
      },
      "source": [
        "print(dog_dataset.__getitem__(0)[-1])"
      ],
      "execution_count": null,
      "outputs": [
        {
          "output_type": "stream",
          "text": [
            "64\n"
          ],
          "name": "stdout"
        }
      ]
    },
    {
      "cell_type": "code",
      "metadata": {
        "id": "4Lmk8ZBd9DQO",
        "colab_type": "code",
        "colab": {
          "base_uri": "https://localhost:8080/",
          "height": 51
        },
        "outputId": "49dd6662-f956-4102-cb70-1e53f1ebbc37"
      },
      "source": [
        "for x,y in train_loader:\n",
        "  print(x.shape, '\\n',type(y))\n",
        "  break"
      ],
      "execution_count": null,
      "outputs": [
        {
          "output_type": "stream",
          "text": [
            "torch.Size([16, 3, 128, 128]) \n",
            " <class 'torch.Tensor'>\n"
          ],
          "name": "stdout"
        }
      ]
    },
    {
      "cell_type": "markdown",
      "metadata": {
        "id": "TUacai2Psd6H",
        "colab_type": "text"
      },
      "source": [
        "### Combining with engineered features"
      ]
    },
    {
      "cell_type": "code",
      "metadata": {
        "id": "6q4_75KIscZQ",
        "colab_type": "code",
        "colab": {}
      },
      "source": [
        "from src.dataloader import load_dog_data\n",
        "from sklearn.decomposition import PCA\n",
        "from src.utils import PCA_images_list, unravel_image, ravel_image_vec, plot_image_grid\n",
        "import numpy as np\n",
        "import pickle\n"
      ],
      "execution_count": 34,
      "outputs": []
    },
    {
      "cell_type": "code",
      "metadata": {
        "id": "R5yMSA7SvqVR",
        "colab_type": "code",
        "colab": {}
      },
      "source": [
        "(image_list,label_list,label_dict) = load_dog_data(data_path,\n",
        "              image_shape=(64,64),\n",
        "              sample_rate=1, \n",
        "              simple=False)"
      ],
      "execution_count": 37,
      "outputs": []
    },
    {
      "cell_type": "code",
      "metadata": {
        "id": "2UAV21fuvsMk",
        "colab_type": "code",
        "colab": {}
      },
      "source": [
        "(eig_vals,eig_image_list) = PCA_images_list(image_list)"
      ],
      "execution_count": 39,
      "outputs": []
    },
    {
      "cell_type": "code",
      "metadata": {
        "id": "heyQwBXvipg6",
        "colab_type": "code",
        "colab": {}
      },
      "source": [
        "pickle.dump( (eig_vals,eig_image_list), open( \"eigvalsvecs.p\", \"wb\" ) )"
      ],
      "execution_count": null,
      "outputs": []
    },
    {
      "cell_type": "code",
      "metadata": {
        "id": "kiM9YmSlYT2Z",
        "colab_type": "code",
        "colab": {}
      },
      "source": [
        "import torch\n",
        "import pickle\n",
        "file = open('eigvalsvecs.p', 'rb')\n",
        "eigen = pickle.load(file)\n",
        "eigvec = torch.Tensor(eigen[1])"
      ],
      "execution_count": 18,
      "outputs": []
    }
  ]
}