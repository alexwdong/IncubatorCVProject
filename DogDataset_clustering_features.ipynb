{
  "nbformat": 4,
  "nbformat_minor": 0,
  "metadata": {
    "kernelspec": {
      "display_name": "Python 3",
      "language": "python",
      "name": "python3"
    },
    "language_info": {
      "codemirror_mode": {
        "name": "ipython",
        "version": 3
      },
      "file_extension": ".py",
      "mimetype": "text/x-python",
      "name": "python",
      "nbconvert_exporter": "python",
      "pygments_lexer": "ipython3",
      "version": "3.7.7"
    },
    "colab": {
      "name": "Copy of DogDatasetEDA.ipynb",
      "provenance": [],
      "collapsed_sections": []
    },
    "accelerator": "GPU"
  },
  "cells": [
    {
      "cell_type": "code",
      "metadata": {
        "id": "i44zQRzi-6Uu",
        "colab_type": "code",
        "colab": {}
      },
      "source": [
        "import os\n",
        "from google.colab import drive\n",
        "drive.mount('/content/drive')\n",
        "\n",
        "path = \"/content/drive/My Drive/cv_project\"\n",
        "\n",
        "os.chdir(path)\n",
        "os.listdir(path)"
      ],
      "execution_count": null,
      "outputs": []
    },
    {
      "cell_type": "code",
      "metadata": {
        "id": "4gQC02-r--bp",
        "colab_type": "code",
        "colab": {}
      },
      "source": [
        "from src.data_loader import load_dog_data\n",
        "from sklearn.decomposition import PCA\n",
        "from src.utils import PCA_images_list, unravel_image, ravel_image_vec, plot_image_grid\n",
        "import numpy as np\n",
        "import pickle\n",
        "data_path = path+'/Images'"
      ],
      "execution_count": null,
      "outputs": []
    },
    {
      "cell_type": "code",
      "metadata": {
        "id": "geermcbKbW16",
        "colab_type": "code",
        "colab": {}
      },
      "source": [
        "from __future__ import print_function, division\n",
        "\n",
        "import os\n",
        "import warnings\n",
        "import h5py\n",
        "import numpy as np\n",
        "import copy\n",
        "import math\n",
        "import scipy.ndimage as ndimage\n",
        "\n",
        "import torch\n",
        "import torch.nn as nn\n",
        "import torchvision\n",
        "from torchvision import datasets, models, transforms\n",
        "\n",
        "#import XrayDataLoader\n",
        "from torch.utils.data import DataLoader\n",
        "\n",
        "from collections import Counter, defaultdict\n",
        "\n",
        "import argparse\n",
        "\n",
        "import pickle"
      ],
      "execution_count": null,
      "outputs": []
    },
    {
      "cell_type": "code",
      "metadata": {
        "id": "qod9qgVc9rs4",
        "colab_type": "code",
        "colab": {}
      },
      "source": [
        "(image_list,label_list,label_dict) = load_dog_data(data_path,\n",
        "              image_shape=(1024,1024),\n",
        "              sample_rate=1, \n",
        "              simple=False)\n"
      ],
      "execution_count": null,
      "outputs": []
    },
    {
      "cell_type": "code",
      "metadata": {
        "id": "Mq5E8f4y-NqH",
        "colab_type": "code",
        "colab": {}
      },
      "source": [
        "#use pickle\n",
        "import pickle\n",
        "with open('image_list.pickle', 'rb') as file:\n",
        "    image_list =pickle.load(file)\n",
        "\n",
        "with open('label_list.pickle', 'rb') as file:\n",
        "    label_list =pickle.load(file)\n"
      ],
      "execution_count": null,
      "outputs": []
    },
    {
      "cell_type": "code",
      "metadata": {
        "id": "NBEV2AnMhy97",
        "colab_type": "code",
        "colab": {
          "base_uri": "https://localhost:8080/",
          "height": 34
        },
        "outputId": "247a759c-159e-4571-e67f-200b9abb88a3"
      },
      "source": [
        "image_list1 = np.array(image_list)\n",
        "image_list1 = image_list1.reshape(20580,4096)\n",
        "#print(image_list1[1])"
      ],
      "execution_count": null,
      "outputs": [
        {
          "output_type": "stream",
          "text": [
            "[0. 0. 0. ... 0. 0. 0.]\n"
          ],
          "name": "stdout"
        }
      ]
    },
    {
      "cell_type": "markdown",
      "metadata": {
        "id": "7npKUzLa-Sv_",
        "colab_type": "text"
      },
      "source": [
        "# clustering features"
      ]
    },
    {
      "cell_type": "code",
      "metadata": {
        "id": "rUqto95d56OY",
        "colab_type": "code",
        "colab": {}
      },
      "source": [
        "from src.feature_engineering import prepare_spectral_clustering_features,prepare_eigen_component_features\n"
      ],
      "execution_count": null,
      "outputs": []
    },
    {
      "cell_type": "code",
      "metadata": {
        "id": "c6bhOJ6W6WMi",
        "colab_type": "code",
        "colab": {}
      },
      "source": [
        "cluster_feature = prepare_spectral_clustering_features(image_list1, 120)"
      ],
      "execution_count": null,
      "outputs": []
    },
    {
      "cell_type": "code",
      "metadata": {
        "id": "f1xQbajY--cp",
        "colab_type": "code",
        "colab": {}
      },
      "source": [
        "pickle.dump( (cluster_feature), open( \"cluster_feature.p\", \"wb\" ) )"
      ],
      "execution_count": null,
      "outputs": []
    }
  ]
}