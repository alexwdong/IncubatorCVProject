{
  "nbformat": 4,
  "nbformat_minor": 0,
  "metadata": {
    "colab": {
      "name": "TrainDogDatasetWithFeat.ipynb",
      "provenance": []
    },
    "kernelspec": {
      "name": "python3",
      "display_name": "Python 3"
    },
    "accelerator": "GPU"
  },
  "cells": [
    {
      "cell_type": "markdown",
      "metadata": {
        "id": "ws41ZKV6P-e1",
        "colab_type": "text"
      },
      "source": [
        "## Set project directory"
      ]
    },
    {
      "cell_type": "code",
      "metadata": {
        "id": "WjscxaYWPmUz",
        "colab_type": "code",
        "colab": {
          "base_uri": "https://localhost:8080/",
          "height": 34
        },
        "outputId": "d1d9ae0c-104c-4d44-8552-8604ff64622e"
      },
      "source": [
        "from google.colab import drive\n",
        "drive.mount('/content/drive')"
      ],
      "execution_count": 1,
      "outputs": [
        {
          "output_type": "stream",
          "text": [
            "Drive already mounted at /content/drive; to attempt to forcibly remount, call drive.mount(\"/content/drive\", force_remount=True).\n"
          ],
          "name": "stdout"
        }
      ]
    },
    {
      "cell_type": "code",
      "metadata": {
        "id": "ZnGuSukAP5TE",
        "colab_type": "code",
        "colab": {
          "base_uri": "https://localhost:8080/",
          "height": 34
        },
        "outputId": "2e50483f-e289-40de-8c3c-52d30d2456ad"
      },
      "source": [
        "%cd drive/My\\ Drive/CV_incubator/IncubatorCVProject"
      ],
      "execution_count": 2,
      "outputs": [
        {
          "output_type": "stream",
          "text": [
            "/content/drive/My Drive/CV_incubator/IncubatorCVProject\n"
          ],
          "name": "stdout"
        }
      ]
    },
    {
      "cell_type": "code",
      "metadata": {
        "id": "DNlgaz2qQJFc",
        "colab_type": "code",
        "colab": {
          "base_uri": "https://localhost:8080/",
          "height": 68
        },
        "outputId": "ae696163-4b9e-4700-9960-0877cb697d98"
      },
      "source": [
        "!ls src"
      ],
      "execution_count": 3,
      "outputs": [
        {
          "output_type": "stream",
          "text": [
            "Basic_CNN_Architecture.py   dataset.py\t\t    __pycache__\n",
            "BasicCNN_withfeat_64x64.py  feature_engineering.py  train_valid.py\n",
            "data_loader.py\t\t    main_two.py\t\t    utils.py\n"
          ],
          "name": "stdout"
        }
      ]
    },
    {
      "cell_type": "markdown",
      "metadata": {
        "id": "kpqkhJuDQSGB",
        "colab_type": "text"
      },
      "source": [
        "## Import libraries and load data"
      ]
    },
    {
      "cell_type": "code",
      "metadata": {
        "id": "LcpZjgXAQmF3",
        "colab_type": "code",
        "colab": {}
      },
      "source": [
        "import pandas as pd\n",
        "from torchvision.transforms import ToTensor,Resize,Compose\n",
        "from src.data_loader import SquarePadding\n",
        "from src.dataset import generate_label,DogDataset\n",
        "import numpy as np\n",
        "from torch.utils.data.sampler import SubsetRandomSampler\n",
        "import torch\n",
        "import pickle\n",
        "import time\n",
        "from src.BasicCNN_withfeat_64x64 import BasicCNN_w_features_64x64 \n",
        "from src.train_valid import train, validation\n",
        "import torch.nn as nn\n",
        "import torch.optim as optim"
      ],
      "execution_count": 4,
      "outputs": []
    },
    {
      "cell_type": "code",
      "metadata": {
        "id": "nCggsPKlQT8w",
        "colab_type": "code",
        "colab": {}
      },
      "source": [
        "# Path to the folder where all images are stored\n",
        "data_path = '../dog-breed-identification'\n",
        "# Path to the label.csv file\n",
        "label_path = '../dog-breed-identification/labels.csv'"
      ],
      "execution_count": 5,
      "outputs": []
    },
    {
      "cell_type": "markdown",
      "metadata": {
        "id": "0cRN-CtSrpi3",
        "colab_type": "text"
      },
      "source": [
        "#### Label"
      ]
    },
    {
      "cell_type": "code",
      "metadata": {
        "id": "Y1QnPsxGQp53",
        "colab_type": "code",
        "colab": {
          "base_uri": "https://localhost:8080/",
          "height": 235
        },
        "outputId": "dfb4c4cd-5cb2-4c70-d208-3b605bc48b78"
      },
      "source": [
        "label = pd.read_csv(\"../dog-breed-identification/labels.csv\",index_col = 'id')\n",
        "label.head()"
      ],
      "execution_count": 6,
      "outputs": [
        {
          "output_type": "execute_result",
          "data": {
            "text/html": [
              "<div>\n",
              "<style scoped>\n",
              "    .dataframe tbody tr th:only-of-type {\n",
              "        vertical-align: middle;\n",
              "    }\n",
              "\n",
              "    .dataframe tbody tr th {\n",
              "        vertical-align: top;\n",
              "    }\n",
              "\n",
              "    .dataframe thead th {\n",
              "        text-align: right;\n",
              "    }\n",
              "</style>\n",
              "<table border=\"1\" class=\"dataframe\">\n",
              "  <thead>\n",
              "    <tr style=\"text-align: right;\">\n",
              "      <th></th>\n",
              "      <th>breed</th>\n",
              "    </tr>\n",
              "    <tr>\n",
              "      <th>id</th>\n",
              "      <th></th>\n",
              "    </tr>\n",
              "  </thead>\n",
              "  <tbody>\n",
              "    <tr>\n",
              "      <th>000bec180eb18c7604dcecc8fe0dba07</th>\n",
              "      <td>boston_bull</td>\n",
              "    </tr>\n",
              "    <tr>\n",
              "      <th>001513dfcb2ffafc82cccf4d8bbaba97</th>\n",
              "      <td>dingo</td>\n",
              "    </tr>\n",
              "    <tr>\n",
              "      <th>001cdf01b096e06d78e9e5112d419397</th>\n",
              "      <td>pekinese</td>\n",
              "    </tr>\n",
              "    <tr>\n",
              "      <th>00214f311d5d2247d5dfe4fe24b2303d</th>\n",
              "      <td>bluetick</td>\n",
              "    </tr>\n",
              "    <tr>\n",
              "      <th>0021f9ceb3235effd7fcde7f7538ed62</th>\n",
              "      <td>golden_retriever</td>\n",
              "    </tr>\n",
              "  </tbody>\n",
              "</table>\n",
              "</div>"
            ],
            "text/plain": [
              "                                             breed\n",
              "id                                                \n",
              "000bec180eb18c7604dcecc8fe0dba07       boston_bull\n",
              "001513dfcb2ffafc82cccf4d8bbaba97             dingo\n",
              "001cdf01b096e06d78e9e5112d419397          pekinese\n",
              "00214f311d5d2247d5dfe4fe24b2303d          bluetick\n",
              "0021f9ceb3235effd7fcde7f7538ed62  golden_retriever"
            ]
          },
          "metadata": {
            "tags": []
          },
          "execution_count": 6
        }
      ]
    },
    {
      "cell_type": "code",
      "metadata": {
        "id": "-xJ91sn2n4ns",
        "colab_type": "code",
        "colab": {}
      },
      "source": [
        "label_csv, lab2idx, idx2lab = generate_label(data_path,label_path)"
      ],
      "execution_count": 7,
      "outputs": []
    },
    {
      "cell_type": "code",
      "metadata": {
        "id": "P5JwgwDRoCGk",
        "colab_type": "code",
        "colab": {
          "base_uri": "https://localhost:8080/",
          "height": 204
        },
        "outputId": "fb09cca0-f807-4c03-f23b-b97a2ffbceef"
      },
      "source": [
        "label_csv.head(5)"
      ],
      "execution_count": 8,
      "outputs": [
        {
          "output_type": "execute_result",
          "data": {
            "text/html": [
              "<div>\n",
              "<style scoped>\n",
              "    .dataframe tbody tr th:only-of-type {\n",
              "        vertical-align: middle;\n",
              "    }\n",
              "\n",
              "    .dataframe tbody tr th {\n",
              "        vertical-align: top;\n",
              "    }\n",
              "\n",
              "    .dataframe thead th {\n",
              "        text-align: right;\n",
              "    }\n",
              "</style>\n",
              "<table border=\"1\" class=\"dataframe\">\n",
              "  <thead>\n",
              "    <tr style=\"text-align: right;\">\n",
              "      <th></th>\n",
              "      <th>path</th>\n",
              "      <th>label_idx</th>\n",
              "    </tr>\n",
              "  </thead>\n",
              "  <tbody>\n",
              "    <tr>\n",
              "      <th>0</th>\n",
              "      <td>train/dd1d181a7224fa5a1a7c1fae05eec93d.jpg</td>\n",
              "      <td>42</td>\n",
              "    </tr>\n",
              "    <tr>\n",
              "      <th>1</th>\n",
              "      <td>train/e4f5d391d0eab2c83493f2110a743da3.jpg</td>\n",
              "      <td>112</td>\n",
              "    </tr>\n",
              "    <tr>\n",
              "      <th>2</th>\n",
              "      <td>train/e49f8aaa63a2ad36d11ff50fd53e25cf.jpg</td>\n",
              "      <td>85</td>\n",
              "    </tr>\n",
              "    <tr>\n",
              "      <th>3</th>\n",
              "      <td>train/e1e8cefa88b84062d11722537ec61214.jpg</td>\n",
              "      <td>18</td>\n",
              "    </tr>\n",
              "    <tr>\n",
              "      <th>4</th>\n",
              "      <td>train/deaba13cbf116d0dda2868a55c697d0b.jpg</td>\n",
              "      <td>50</td>\n",
              "    </tr>\n",
              "  </tbody>\n",
              "</table>\n",
              "</div>"
            ],
            "text/plain": [
              "                                         path  label_idx\n",
              "0  train/dd1d181a7224fa5a1a7c1fae05eec93d.jpg         42\n",
              "1  train/e4f5d391d0eab2c83493f2110a743da3.jpg        112\n",
              "2  train/e49f8aaa63a2ad36d11ff50fd53e25cf.jpg         85\n",
              "3  train/e1e8cefa88b84062d11722537ec61214.jpg         18\n",
              "4  train/deaba13cbf116d0dda2868a55c697d0b.jpg         50"
            ]
          },
          "metadata": {
            "tags": []
          },
          "execution_count": 8
        }
      ]
    },
    {
      "cell_type": "markdown",
      "metadata": {
        "id": "PVcfh38Rrsx3",
        "colab_type": "text"
      },
      "source": [
        "#### Pytorch dataset"
      ]
    },
    {
      "cell_type": "code",
      "metadata": {
        "id": "56YPZIPRo9nA",
        "colab_type": "code",
        "colab": {}
      },
      "source": [
        "dog_dataset = DogDataset(label_csv,data_path,Compose([\n",
        "    SquarePadding(),\n",
        "    Resize((64,64)),\n",
        "    ToTensor()]))"
      ],
      "execution_count": 9,
      "outputs": []
    },
    {
      "cell_type": "code",
      "metadata": {
        "id": "K3-cSxK9rC0b",
        "colab_type": "code",
        "colab": {}
      },
      "source": [
        "#Variables for splitting the dataset into train/test\n",
        "validation_split = .1\n",
        "test_split = .1\n",
        "batch_size = 16\n",
        "shuffle_dataset = True\n",
        "random_seed = 42\n",
        "\n",
        "# Split \n",
        "dataset_size = len(dog_dataset)\n",
        "indices = list(range(dataset_size))\n",
        "split_idx1 = int(np.floor((validation_split+test_split) * dataset_size))\n",
        "split_idx2 = int(np.floor(test_split * dataset_size))\n",
        "if shuffle_dataset:\n",
        "    np.random.seed(random_seed)\n",
        "    np.random.shuffle(indices)\n",
        "    \n",
        "test_indices, val_indices, train_indices = indices[:split_idx2], indices[split_idx2:split_idx1], indices[split_idx1:]\n",
        "\n",
        "# Creating PT data samplers and loaders:\n",
        "train_sampler = SubsetRandomSampler(train_indices)\n",
        "valid_sampler = SubsetRandomSampler(val_indices)\n",
        "\n",
        "train_loader = torch.utils.data.DataLoader(dog_dataset, batch_size=batch_size, \n",
        "                                           sampler=train_sampler)\n",
        "valid_loader = torch.utils.data.DataLoader(dog_dataset, batch_size=batch_size,\n",
        "                                                sampler=valid_sampler)"
      ],
      "execution_count": 10,
      "outputs": []
    },
    {
      "cell_type": "markdown",
      "metadata": {
        "id": "9y1_iOwhrxtN",
        "colab_type": "text"
      },
      "source": [
        "#### Engineered features(eigenvectors)\n"
      ]
    },
    {
      "cell_type": "code",
      "metadata": {
        "id": "Rvt0lUlVrmvo",
        "colab_type": "code",
        "colab": {
          "base_uri": "https://localhost:8080/",
          "height": 34
        },
        "outputId": "b6441e17-4552-4c3d-ed92-16d1f3117f4a"
      },
      "source": [
        "file = open('features.p', 'rb')\n",
        "features = pickle.load(file)\n",
        "print(features.shape)\n",
        "train_feat = valid_feat = features"
      ],
      "execution_count": 11,
      "outputs": [
        {
          "output_type": "stream",
          "text": [
            "torch.Size([10222, 300])\n"
          ],
          "name": "stdout"
        }
      ]
    },
    {
      "cell_type": "markdown",
      "metadata": {
        "id": "lQHumkInsIH7",
        "colab_type": "text"
      },
      "source": [
        "## Training"
      ]
    },
    {
      "cell_type": "code",
      "metadata": {
        "id": "N13C8JmHsJiQ",
        "colab_type": "code",
        "colab": {
          "base_uri": "https://localhost:8080/",
          "height": 51
        },
        "outputId": "f572beae-b369-4f2b-9efb-273c56f7d084"
      },
      "source": [
        "if torch.cuda.is_available():\n",
        "\n",
        "    # Tell PyTorch to use the GPU.\n",
        "    device = torch.device(\"cuda\")\n",
        "    \n",
        "    print('There are %d GPU(s) available.' % torch.cuda.device_count())\n",
        "\n",
        "    print('We will use the GPU:', torch.cuda.get_device_name(0))\n",
        "\n",
        "# If not...\n",
        "else:\n",
        "    print('No GPU available, using the CPU instead.')\n",
        "    device = torch.device(\"cpu\")"
      ],
      "execution_count": 12,
      "outputs": [
        {
          "output_type": "stream",
          "text": [
            "There are 1 GPU(s) available.\n",
            "We will use the GPU: Tesla P4\n"
          ],
          "name": "stdout"
        }
      ]
    },
    {
      "cell_type": "code",
      "metadata": {
        "id": "uZekF-KjsNRk",
        "colab_type": "code",
        "colab": {}
      },
      "source": [
        "num_classes = sum([1 for k in lab2idx])\n",
        "\n",
        "# training process\n",
        "# to be finished later\n",
        "model = BasicCNN_w_features_64x64(num_classes=num_classes)\n",
        "model.to(device)\n",
        "train_loss = nn.CrossEntropyLoss()\n",
        "train_loss.to(device)\n",
        "valid_loss = nn.CrossEntropyLoss()\n",
        "valid_loss.to(device)\n",
        "def train_valid(optimizer = optim.Adam(model.parameters()), epochs = 20, model = model,\n",
        "                train_criterion = train_loss, train_loader = train_loader,\n",
        "                valid_criterion = valid_loss, valid_loader = valid_loader,\n",
        "                device = device, train_feat = train_feat, valid_feat = valid_feat):\n",
        "\n",
        "    start_epoch = 1\n",
        "    #or: best_val_acc = 0\n",
        "    best_val_loss = np.inf\n",
        "\n",
        "    history = {\"train_loss\":[], \"train_acc\":[],\n",
        "                \"valid_loss\":[], \"valid_acc\":[], \"valid_preds_list\":[],\n",
        "                \"valid_truelabels_list\":[], \"valid_probas_list\":[], \"valid_auc_score\":[]}\n",
        "\n",
        "    start_time = time.time()\n",
        "\n",
        "    for epoch in range(start_epoch, epochs + 1):\n",
        "\n",
        "        train_loss, train_acc = train(epoch, model, optimizer, train_criterion, \n",
        "                                      train_loader, device, train_feat)\n",
        "        history[\"train_loss\"].append(train_loss)\n",
        "        history[\"train_acc\"].append(train_acc)\n",
        "\n",
        "        print('epoch: ', epoch)\n",
        "        print('{}: loss: {:.4f} acc: {:.4f}'.format('training', train_loss, train_acc))\n",
        "\n",
        "        valid_loss, valid_acc, valid_preds_list, valid_truelabels_list, valid_probas_list, valid_auc_score = validation(epoch, model, optimizer, \n",
        "                                                        valid_criterion, valid_loader, \n",
        "                                                        device, valid_feat)\n",
        "        history[\"valid_loss\"].append(valid_loss)\n",
        "        history[\"valid_acc\"].append(valid_acc)\n",
        "        history[\"valid_preds_list\"].append(valid_preds_list)\n",
        "        history[\"valid_truelabels_list\"].append(valid_truelabels_list)\n",
        "        history[\"valid_probas_list\"].append(valid_probas_list)\n",
        "        history[\"valid_auc_score\"].append(valid_auc_score)\n",
        "\n",
        "        print('{}: loss: {:.4f} acc: {:.4f} auc: {:.4f}'.format('validation', valid_loss, valid_acc, valid_auc_score))\n",
        "        print()\n",
        "\n",
        "        # save models(use valid loss as best model criterion, please change\n",
        "        # criterion here if needed(eg. valid acc)\n",
        "        is_best = valid_loss < best_val_loss\n",
        "        best_val_loss = min(valid_loss, best_val_loss)\n",
        "\n",
        "        if is_best:\n",
        "            # please change model file path here\n",
        "            best_model_file = \"best_models/best_dry_run1.pth\"\n",
        "            torch.save(model.state_dict(), best_model_file)\n",
        "\n",
        "        # save model from every training epoch\n",
        "        # can be deleted if do not need this one, or adapt it to save 5th, 10th, 15th ...models\n",
        "        model_file = \"best_models/dry_run1\" + str(epoch) + \".pth\"\n",
        "\n",
        "        torch.save(model.state_dict(), model_file)\n",
        "\n",
        "        # save training/validation results\n",
        "        with open(\"history.pkl\", \"wb\") as fout:\n",
        "            pickle.dump(history, fout)\n",
        "\n",
        "    print('time elapsed:', time.time() - start_time)\n",
        "\n",
        "    return history\n",
        "\n",
        "results = train_valid()"
      ],
      "execution_count": null,
      "outputs": []
    }
  ]
}